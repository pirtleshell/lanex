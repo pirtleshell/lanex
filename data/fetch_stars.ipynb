{
 "cells": [
  {
   "cell_type": "code",
   "execution_count": 2,
   "metadata": {},
   "outputs": [],
   "source": [
    "from astroquery.simbad import Simbad"
   ]
  },
  {
   "cell_type": "code",
   "execution_count": 4,
   "metadata": {},
   "outputs": [],
   "source": [
    "import matplotlib.pyplot as plt\n",
    "import numpy as np\n",
    "import pandas as pd\n",
    "\n",
    "%matplotlib inline"
   ]
  },
  {
   "cell_type": "code",
   "execution_count": 5,
   "metadata": {},
   "outputs": [],
   "source": [
    "def ra_to_rad(ra):\n",
    "    \"\"\" right ascension in hhmmss.s to radians \"\"\"\n",
    "    # RA is a string formatted as hhmmss.s\n",
    "    hrs = float(ra[:2])\n",
    "    mins = float(ra[2:4])\n",
    "    secs = float(ra[4:])\n",
    "\n",
    "    degree = hrs*(360/24.0) + mins*(360/(24*60.0)) + secs*(360/(24*3600.0))\n",
    "    rad = degree*(np.pi/180.0)\n",
    "    return rad\n",
    "\n",
    "def dec_to_rad(dec):\n",
    "    \"\"\" declination in damas to radians\n",
    "    dec is a string formatted as (+/-)ddamas\n",
    "    \"\"\"\n",
    "    sign = 1.0 if dec[0] == '+' else -1.0\n",
    "    degs = float(dec[1:3])\n",
    "    mins = float(dec[3:5])\n",
    "    secs = float(dec[5:])\n",
    "\n",
    "    degree = sign * (degs + mins/60.0 + secs/3600.0)\n",
    "    rad = degree * (np.pi/180.0)\n",
    "    return rad"
   ]
  },
  {
   "cell_type": "code",
   "execution_count": 6,
   "metadata": {
    "scrolled": false
   },
   "outputs": [
    {
     "name": "stdout",
     "output_type": "stream",
     "text": [
      "--NOTES--\n",
      "\n",
      "1. The parameter filtername must correspond to an existing filter. Filters include: B,V,R,I,J,K.  They are checked by SIMBAD but not astroquery.simbad\n",
      "\n",
      "2. Fields beginning with rvz display the data as it is in the database. Fields beginning with rv force the display as a radial velocity. Fields beginning with z force the display as a redshift\n",
      "\n",
      "3. For each measurement catalog, the VOTable contains all fields of the first measurement. When applicable, the first measurement is the mean one. \n",
      "\n",
      "Available VOTABLE fields:\n",
      "\n",
      "bibcodelist(y1-y2)\n",
      "biblio\n",
      "cel\n",
      "cl.g\n",
      "coo(opt)\n",
      "coo_bibcode\n",
      "coo_err_angle\n",
      "coo_err_maja\n",
      "coo_err_mina\n",
      "coo_qual\n",
      "coo_wavelength\n",
      "coordinates\n",
      "dec(opt)\n",
      "dec_prec\n",
      "diameter\n",
      "dim\n",
      "dim_angle\n",
      "dim_bibcode\n",
      "dim_incl\n",
      "dim_majaxis\n",
      "dim_minaxis\n",
      "dim_qual\n",
      "dim_wavelength\n",
      "dimensions\n",
      "distance\n",
      "distance_result\n",
      "einstein\n",
      "fe_h\n",
      "flux(filtername)\n",
      "flux_bibcode(filtername)\n",
      "flux_error(filtername)\n",
      "flux_name(filtername)\n",
      "flux_qual(filtername)\n",
      "flux_system(filtername)\n",
      "flux_unit(filtername)\n",
      "fluxdata(filtername)\n",
      "gcrv\n",
      "gen\n",
      "gj\n",
      "hbet\n",
      "hbet1\n",
      "hgam\n",
      "id(opt)\n",
      "ids\n",
      "iras\n",
      "irc\n",
      "iso\n",
      "iue\n",
      "jp11\n",
      "link_bibcode\n",
      "main_id\n",
      "measurements\n",
      "membership\n",
      "mesplx\n",
      "mespm\n",
      "mk\n",
      "morphtype\n",
      "mt\n",
      "mt_bibcode\n",
      "mt_qual\n",
      "otype\n",
      "otype(opt)\n",
      "otypes\n",
      "parallax\n",
      "plx\n",
      "plx_bibcode\n",
      "plx_error\n",
      "plx_prec\n",
      "plx_qual\n",
      "pm\n",
      "pm_bibcode\n",
      "pm_err_angle\n",
      "pm_err_maja\n",
      "pm_err_mina\n",
      "pm_qual\n",
      "pmdec\n",
      "pmdec_prec\n",
      "pmra\n",
      "pmra_prec\n",
      "pos\n",
      "posa\n",
      "propermotions\n",
      "ra(opt)\n",
      "ra_prec\n",
      "rot\n",
      "rv_value\n",
      "rvz_bibcode\n",
      "rvz_error\n",
      "rvz_qual\n",
      "rvz_radvel\n",
      "rvz_type\n",
      "rvz_wavelength\n",
      "sao\n",
      "sp\n",
      "sp_bibcode\n",
      "sp_nature\n",
      "sp_qual\n",
      "sptype\n",
      "td1\n",
      "typed_id\n",
      "ubv\n",
      "uvby\n",
      "uvby1\n",
      "v*\n",
      "velocity\n",
      "xmm\n",
      "z_value\n",
      "For more information on a field:\n",
      "Simbad.get_field_description ('field_name') \n",
      "Currently active VOTABLE fields:\n",
      " ['main_id', 'coordinates']\n"
     ]
    }
   ],
   "source": [
    "Simbad.list_votable_fields()"
   ]
  },
  {
   "cell_type": "code",
   "execution_count": 7,
   "metadata": {},
   "outputs": [
    {
     "name": "stdout",
     "output_type": "stream",
     "text": [
      "variable stars parameters extracted mainly from the \n",
      "              General Catalog of Variable Stars by Kukarkin et al.\n",
      "              USSR Academy of Sciences (3rd edition in 1969,and continuations)\n"
     ]
    }
   ],
   "source": [
    "Simbad.get_field_description('v*')"
   ]
  },
  {
   "cell_type": "code",
   "execution_count": 8,
   "metadata": {},
   "outputs": [
    {
     "data": {
      "text/plain": [
       "['main_id',\n",
       " 'coordinates',\n",
       " 'distance',\n",
       " 'dim',\n",
       " 'z_value',\n",
       " 'otypes',\n",
       " 'flux(V)',\n",
       " 'flux(B)']"
      ]
     },
     "execution_count": 8,
     "metadata": {},
     "output_type": "execute_result"
    }
   ],
   "source": [
    "Simbad.reset_votable_fields()\n",
    "Simbad.add_votable_fields(\n",
    "    'distance', 'dim', 'z_value', 'otypes',\n",
    "    'flux(V)', 'flux(B)'\n",
    ")\n",
    "Simbad.get_votable_fields()"
   ]
  },
  {
   "cell_type": "code",
   "execution_count": 13,
   "metadata": {},
   "outputs": [],
   "source": [
    "Simbad.ROW_LIMIT = 10000\n",
    "Simbad.TIMEOUT = 180\n",
    "south = Simbad.query_criteria('maintypes = * & Vmag < 7 & ra < 180').to_pandas()\n",
    "north = Simbad.query_criteria('maintypes = * & Vmag < 7 & ra > 180').to_pandas()\n",
    "# stars = Simbad.query_criteria('maintypes = * & Vmag < 6').to_pandas()\n",
    "# res = Simbad.query_object('RS Pupus')"
   ]
  },
  {
   "cell_type": "code",
   "execution_count": 15,
   "metadata": {
    "scrolled": true
   },
   "outputs": [
    {
     "data": {
      "text/html": [
       "<div>\n",
       "<style scoped>\n",
       "    .dataframe tbody tr th:only-of-type {\n",
       "        vertical-align: middle;\n",
       "    }\n",
       "\n",
       "    .dataframe tbody tr th {\n",
       "        vertical-align: top;\n",
       "    }\n",
       "\n",
       "    .dataframe thead th {\n",
       "        text-align: right;\n",
       "    }\n",
       "</style>\n",
       "<table border=\"1\" class=\"dataframe\">\n",
       "  <thead>\n",
       "    <tr style=\"text-align: right;\">\n",
       "      <th></th>\n",
       "      <th>id</th>\n",
       "      <th>RA</th>\n",
       "      <th>DEC</th>\n",
       "      <th>RA_PREC</th>\n",
       "      <th>DEC_PREC</th>\n",
       "      <th>COO_ERR_MAJA</th>\n",
       "      <th>COO_ERR_MINA</th>\n",
       "      <th>COO_ERR_ANGLE</th>\n",
       "      <th>COO_QUAL</th>\n",
       "      <th>COO_WAVELENGTH</th>\n",
       "      <th>...</th>\n",
       "      <th>Distance_perr</th>\n",
       "      <th>Distance_method</th>\n",
       "      <th>Distance_bibcode</th>\n",
       "      <th>GALDIM_MAJAXIS</th>\n",
       "      <th>GALDIM_MINAXIS</th>\n",
       "      <th>GALDIM_ANGLE</th>\n",
       "      <th>Z_VALUE</th>\n",
       "      <th>OTYPES</th>\n",
       "      <th>FLUX_V</th>\n",
       "      <th>FLUX_B</th>\n",
       "    </tr>\n",
       "  </thead>\n",
       "  <tbody>\n",
       "    <tr>\n",
       "      <th>0</th>\n",
       "      <td>b'HD 200253'</td>\n",
       "      <td>21 01 12.8644</td>\n",
       "      <td>+36 01 33.647</td>\n",
       "      <td>14</td>\n",
       "      <td>14</td>\n",
       "      <td>0.0308</td>\n",
       "      <td>0.0386</td>\n",
       "      <td>90</td>\n",
       "      <td>A</td>\n",
       "      <td>O</td>\n",
       "      <td>...</td>\n",
       "      <td>1.5912</td>\n",
       "      <td>paral</td>\n",
       "      <td>2018yCat.1345....0G</td>\n",
       "      <td>NaN</td>\n",
       "      <td>NaN</td>\n",
       "      <td>0</td>\n",
       "      <td>-0.000029</td>\n",
       "      <td>b'*|IR'</td>\n",
       "      <td>5.997</td>\n",
       "      <td>7.00</td>\n",
       "    </tr>\n",
       "    <tr>\n",
       "      <th>1</th>\n",
       "      <td>b'*  61 Cyg B'</td>\n",
       "      <td>21 06 55.2640</td>\n",
       "      <td>+38 44 31.362</td>\n",
       "      <td>14</td>\n",
       "      <td>14</td>\n",
       "      <td>0.0437</td>\n",
       "      <td>0.0481</td>\n",
       "      <td>90</td>\n",
       "      <td>A</td>\n",
       "      <td>O</td>\n",
       "      <td>...</td>\n",
       "      <td>0.0007</td>\n",
       "      <td>paral</td>\n",
       "      <td>2018yCat.1345....0G</td>\n",
       "      <td>NaN</td>\n",
       "      <td>NaN</td>\n",
       "      <td>0</td>\n",
       "      <td>-0.000214</td>\n",
       "      <td>b'**|*|PM*|PM*|V*|Fl*|Ro*|IR|X'</td>\n",
       "      <td>6.030</td>\n",
       "      <td>7.40</td>\n",
       "    </tr>\n",
       "    <tr>\n",
       "      <th>2</th>\n",
       "      <td>b'* tau Cyg'</td>\n",
       "      <td>21 14 47.4925</td>\n",
       "      <td>+38 02 43.144</td>\n",
       "      <td>9</td>\n",
       "      <td>9</td>\n",
       "      <td>2.6400</td>\n",
       "      <td>2.6400</td>\n",
       "      <td>90</td>\n",
       "      <td>A</td>\n",
       "      <td>O</td>\n",
       "      <td>...</td>\n",
       "      <td>NaN</td>\n",
       "      <td></td>\n",
       "      <td></td>\n",
       "      <td>0.015</td>\n",
       "      <td>0.0</td>\n",
       "      <td>213</td>\n",
       "      <td>-0.000070</td>\n",
       "      <td>b'**|*|PM*|PM*|V*|dS*|IR|UV|UV|X'</td>\n",
       "      <td>3.730</td>\n",
       "      <td>4.12</td>\n",
       "    </tr>\n",
       "    <tr>\n",
       "      <th>3</th>\n",
       "      <td>b'* tau Cyg A'</td>\n",
       "      <td>21 14 47.5031</td>\n",
       "      <td>+38 02 43.610</td>\n",
       "      <td>14</td>\n",
       "      <td>14</td>\n",
       "      <td>0.3419</td>\n",
       "      <td>0.4304</td>\n",
       "      <td>90</td>\n",
       "      <td>A</td>\n",
       "      <td>O</td>\n",
       "      <td>...</td>\n",
       "      <td>0.1885</td>\n",
       "      <td>paral</td>\n",
       "      <td>2018yCat.1345....0G</td>\n",
       "      <td>NaN</td>\n",
       "      <td>NaN</td>\n",
       "      <td>0</td>\n",
       "      <td>NaN</td>\n",
       "      <td>b'**|*|PM*'</td>\n",
       "      <td>3.830</td>\n",
       "      <td>4.23</td>\n",
       "    </tr>\n",
       "    <tr>\n",
       "      <th>4</th>\n",
       "      <td>b'* tau Cyg B'</td>\n",
       "      <td>21 14 47.4627</td>\n",
       "      <td>+38 02 44.140</td>\n",
       "      <td>10</td>\n",
       "      <td>10</td>\n",
       "      <td>34.0000</td>\n",
       "      <td>34.0000</td>\n",
       "      <td>90</td>\n",
       "      <td>B</td>\n",
       "      <td>O</td>\n",
       "      <td>...</td>\n",
       "      <td>NaN</td>\n",
       "      <td></td>\n",
       "      <td></td>\n",
       "      <td>NaN</td>\n",
       "      <td>NaN</td>\n",
       "      <td>0</td>\n",
       "      <td>NaN</td>\n",
       "      <td>b'**|*|PM*'</td>\n",
       "      <td>6.570</td>\n",
       "      <td>7.50</td>\n",
       "    </tr>\n",
       "  </tbody>\n",
       "</table>\n",
       "<p>5 rows × 25 columns</p>\n",
       "</div>"
      ],
      "text/plain": [
       "               id             RA            DEC  RA_PREC  DEC_PREC  \\\n",
       "0    b'HD 200253'  21 01 12.8644  +36 01 33.647       14        14   \n",
       "1  b'*  61 Cyg B'  21 06 55.2640  +38 44 31.362       14        14   \n",
       "2    b'* tau Cyg'  21 14 47.4925  +38 02 43.144        9         9   \n",
       "3  b'* tau Cyg A'  21 14 47.5031  +38 02 43.610       14        14   \n",
       "4  b'* tau Cyg B'  21 14 47.4627  +38 02 44.140       10        10   \n",
       "\n",
       "   COO_ERR_MAJA  COO_ERR_MINA  COO_ERR_ANGLE COO_QUAL COO_WAVELENGTH  ...  \\\n",
       "0        0.0308        0.0386             90        A              O  ...   \n",
       "1        0.0437        0.0481             90        A              O  ...   \n",
       "2        2.6400        2.6400             90        A              O  ...   \n",
       "3        0.3419        0.4304             90        A              O  ...   \n",
       "4       34.0000       34.0000             90        B              O  ...   \n",
       "\n",
       "  Distance_perr  Distance_method     Distance_bibcode GALDIM_MAJAXIS  \\\n",
       "0        1.5912            paral  2018yCat.1345....0G            NaN   \n",
       "1        0.0007            paral  2018yCat.1345....0G            NaN   \n",
       "2           NaN                                                0.015   \n",
       "3        0.1885            paral  2018yCat.1345....0G            NaN   \n",
       "4           NaN                                                  NaN   \n",
       "\n",
       "   GALDIM_MINAXIS  GALDIM_ANGLE   Z_VALUE                             OTYPES  \\\n",
       "0             NaN             0 -0.000029                            b'*|IR'   \n",
       "1             NaN             0 -0.000214    b'**|*|PM*|PM*|V*|Fl*|Ro*|IR|X'   \n",
       "2             0.0           213 -0.000070  b'**|*|PM*|PM*|V*|dS*|IR|UV|UV|X'   \n",
       "3             NaN             0       NaN                        b'**|*|PM*'   \n",
       "4             NaN             0       NaN                        b'**|*|PM*'   \n",
       "\n",
       "   FLUX_V  FLUX_B  \n",
       "0   5.997    7.00  \n",
       "1   6.030    7.40  \n",
       "2   3.730    4.12  \n",
       "3   3.830    4.23  \n",
       "4   6.570    7.50  \n",
       "\n",
       "[5 rows x 25 columns]"
      ]
     },
     "execution_count": 15,
     "metadata": {},
     "output_type": "execute_result"
    }
   ],
   "source": [
    "df = north.append(south)\n",
    "\n",
    "df = df.rename(columns={'MAIN_ID': 'id'})\n",
    "df.head()"
   ]
  },
  {
   "cell_type": "code",
   "execution_count": 16,
   "metadata": {},
   "outputs": [
    {
     "data": {
      "text/plain": [
       "14194"
      ]
     },
     "execution_count": 16,
     "metadata": {},
     "output_type": "execute_result"
    }
   ],
   "source": [
    "len(df)"
   ]
  },
  {
   "cell_type": "code",
   "execution_count": 17,
   "metadata": {},
   "outputs": [],
   "source": [
    "df.to_json('stars.json', orient='records')"
   ]
  },
  {
   "cell_type": "code",
   "execution_count": null,
   "metadata": {},
   "outputs": [],
   "source": [
    "Simbad.ROW_LIMIT = 12000\n",
    "cepheids = Simbad.query_criteria('maintype = cC*')"
   ]
  },
  {
   "cell_type": "code",
   "execution_count": null,
   "metadata": {},
   "outputs": [],
   "source": [
    "df = cepheids.to_pandas()\n",
    "df.head()"
   ]
  },
  {
   "cell_type": "code",
   "execution_count": null,
   "metadata": {},
   "outputs": [],
   "source": [
    "df.to_json('cepheids.json', orient='records')"
   ]
  },
  {
   "cell_type": "code",
   "execution_count": null,
   "metadata": {},
   "outputs": [],
   "source": [
    "df.columns"
   ]
  },
  {
   "cell_type": "code",
   "execution_count": null,
   "metadata": {},
   "outputs": [],
   "source": [
    "len(df['Distance_distance'].unique())"
   ]
  },
  {
   "cell_type": "code",
   "execution_count": null,
   "metadata": {},
   "outputs": [],
   "source": [
    "s = b'Pup'\n",
    "df.query('@s in MAIN_ID')"
   ]
  },
  {
   "cell_type": "code",
   "execution_count": null,
   "metadata": {},
   "outputs": [],
   "source": [
    "df[[(b'V*' in s['MAIN_ID'] and pd.notna(s['Distance_distance'])) for s in df.items()]]"
   ]
  },
  {
   "cell_type": "code",
   "execution_count": null,
   "metadata": {},
   "outputs": [],
   "source": [
    "# has a distance\n",
    "cleaned = df[pd.notna(df['Distance_distance'])]\n",
    "# has a V__period\n",
    "cleaned = cleaned[pd.notna(cleaned['V__period'])]\n",
    "# has V flux\n",
    "cleaned = cleaned[pd.notna(cleaned['FLUX_V'])]\n",
    "# period based off V flux\n",
    "cleaned = cleaned[[p == 'V' for p in cleaned['V__magtyp']]]\n",
    "# distance isn't from Cepheid\n",
    "cleaned = cleaned[[s != 'Cep' for s in cleaned['Distance_method']]]\n",
    "\n",
    "# remove random star with period of 3212.24026...\n",
    "cleaned = cleaned[[p < 100 for p in cleaned['V__period']]]"
   ]
  },
  {
   "cell_type": "code",
   "execution_count": 14,
   "metadata": {},
   "outputs": [],
   "source": [
    "def abs_from_app_mag(apparent_magnitude, distance):\n",
    "    # m - M = 5*log(dist / 10)\n",
    "    #=> M = m - 5*log(dist/10)\n",
    "    return apparent_magnitude - 5.0*np.log10(distance / 10.0)\n",
    "\n",
    "def calc_mag(star, band='FLUX_V'):\n",
    "    app_mag = star[band]\n",
    "    dist = star['Distance_distance']\n",
    "    if star['Distance_unit'] == 'kpc':\n",
    "        dist *= 1000\n",
    "    return abs_from_app_mag(app_mag, dist)\n",
    "\n",
    "def calc_luminosity(star, band='FLUX_V'):\n",
    "    # L = 4pi(flux)(dist^2)\n",
    "    flux = star[band]\n",
    "    dist = star['Distance_distance']\n",
    "    if star['Distance_unit'] == 'kpc':\n",
    "        dist *= 1000\n",
    "    return 4.0*np.pi*flux*(dist**2)\n",
    "\n",
    "\n",
    "def cartesian(star):\n",
    "    ra = star['RA']\n",
    "    dec = star['DEC']\n",
    "    dist = star['Distance_distance']\n",
    "    dist *= units.pc if star['Distance_unit'] == 'pc' else units.kpc\n",
    "    unit = (units.hourangle, units.deg)\n",
    "    sc = SkyCoord(ra + ' ' + dec, unit=unit, distance=dist)\n",
    "    return sc.cartesian"
   ]
  },
  {
   "cell_type": "code",
   "execution_count": null,
   "metadata": {},
   "outputs": [],
   "source": [
    "abs_mags = []\n",
    "periods = []\n",
    "for i,s in cleaned.iterrows():\n",
    "    abs_mags.append(calc_mag(s))\n",
    "    periods.append(s['V__period'])"
   ]
  },
  {
   "cell_type": "code",
   "execution_count": null,
   "metadata": {},
   "outputs": [],
   "source": [
    "ax = plt.subplot(1, 1, 1, xscale='log')\n",
    "plt.plot(periods, abs_mags, 'o')"
   ]
  },
  {
   "cell_type": "code",
   "execution_count": null,
   "metadata": {},
   "outputs": [],
   "source": [
    "cleaned['V__magtyp'].unique()"
   ]
  },
  {
   "cell_type": "code",
   "execution_count": null,
   "metadata": {},
   "outputs": [],
   "source": [
    "print(cleaned['Distance_distance'][21], cleaned['FLUX_V'][21])"
   ]
  },
  {
   "cell_type": "code",
   "execution_count": null,
   "metadata": {},
   "outputs": [],
   "source": []
  }
 ],
 "metadata": {
  "kernelspec": {
   "display_name": "Python 3",
   "language": "python",
   "name": "python3"
  },
  "language_info": {
   "codemirror_mode": {
    "name": "ipython",
    "version": 3
   },
   "file_extension": ".py",
   "mimetype": "text/x-python",
   "name": "python",
   "nbconvert_exporter": "python",
   "pygments_lexer": "ipython3",
   "version": "3.7.6"
  }
 },
 "nbformat": 4,
 "nbformat_minor": 2
}
